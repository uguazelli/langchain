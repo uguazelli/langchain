{
  "nbformat": 4,
  "nbformat_minor": 0,
  "metadata": {
    "colab": {
      "provenance": [],
      "authorship_tag": "ABX9TyNHNpjaLu83hv8WlRXlJNlz",
      "include_colab_link": true
    },
    "kernelspec": {
      "name": "python3",
      "display_name": "Python 3"
    },
    "language_info": {
      "name": "python"
    }
  },
  "cells": [
    {
      "cell_type": "markdown",
      "metadata": {
        "id": "view-in-github",
        "colab_type": "text"
      },
      "source": [
        "<a href=\"https://colab.research.google.com/github/uguazelli/langchain/blob/main/single_prompt_structured_output.ipynb\" target=\"_parent\"><img src=\"https://colab.research.google.com/assets/colab-badge.svg\" alt=\"Open In Colab\"/></a>"
      ]
    },
    {
      "cell_type": "markdown",
      "source": [
        "# Single Prompt with Structured Output\n",
        "Use one big prompt + parser if:\n",
        "* You want speed and simplicity\n",
        "* You can write a well-structured prompt\n",
        "* You're doing demo, prototype, or cost-sensitive tasks"
      ],
      "metadata": {
        "id": "wX0lwnuAHkC6"
      }
    },
    {
      "cell_type": "markdown",
      "source": [
        "# Pip Install"
      ],
      "metadata": {
        "id": "fshoYtRPIUSI"
      }
    },
    {
      "cell_type": "code",
      "source": [
        "# Install required packages\n",
        "!pip install -U langchain langchain-community langchain-openai\n",
        "!pip install pydantic\n"
      ],
      "metadata": {
        "id": "Wpx5QpG8MMwN",
        "collapsed": true
      },
      "execution_count": null,
      "outputs": []
    },
    {
      "cell_type": "markdown",
      "source": [
        "# Imports"
      ],
      "metadata": {
        "id": "zZC400R5IYQk"
      }
    },
    {
      "cell_type": "code",
      "execution_count": 2,
      "metadata": {
        "id": "JKD2nukCIeWY"
      },
      "outputs": [],
      "source": [
        "# Imports'\n",
        "from google.colab import userdata\n",
        "from langchain_core.prompts import PromptTemplate\n",
        "from langchain_openai import OpenAI # ✅ use langchain_openai, not community\n",
        "from langchain.output_parsers import PydanticOutputParser\n",
        "from pydantic import BaseModel, Field\n",
        "import json"
      ]
    },
    {
      "cell_type": "code",
      "source": [
        "# Get API key from Colab secrets\n",
        "api_key = userdata.get('OPENAI_API_KEY')"
      ],
      "metadata": {
        "id": "FEfmiyaPKSuY"
      },
      "execution_count": 4,
      "outputs": []
    },
    {
      "cell_type": "code",
      "source": [
        "# Define LLM (completion model like GPT-3.5-turbo-instruct and level of creativity 0.6 of 1)\n",
        "llm = OpenAI(model=\"gpt-3.5-turbo-instruct\", api_key=api_key, temperature=0.6)"
      ],
      "metadata": {
        "id": "Mh1Rk_yBLyMP"
      },
      "execution_count": 5,
      "outputs": []
    },
    {
      "cell_type": "code",
      "source": [
        "# STEP 1 — Final output schema\n",
        "class RestaurantBrand(BaseModel):\n",
        "    name: str = Field(description=\"The name of the restaurant\")\n",
        "    slogan: str = Field(description=\"The marketing slogan\")\n",
        "    concept: str = Field(description=\"Interior and branding concept\")\n",
        "    logo_description: str = Field(description=\"Description of the logo idea\")\n",
        "    image_prompt: str = Field(description=\"Prompt to generate the logo image\")\n",
        "\n",
        "parser = PydanticOutputParser(pydantic_object=RestaurantBrand)"
      ],
      "metadata": {
        "id": "FciInoup47q_"
      },
      "execution_count": 6,
      "outputs": []
    },
    {
      "cell_type": "code",
      "source": [
        "# STEP 2 — Prompt asking model to return JSON matching the schema\n",
        "format_instructions = parser.get_format_instructions()\n",
        "\n",
        "final_prompt = PromptTemplate.from_template(\n",
        "    \"\"\"\n",
        "You are a branding assistant. I want to open a {cuisine} restaurant.\n",
        "\n",
        "Generate:\n",
        "- A beautiful restaurant name\n",
        "- A catchy slogan\n",
        "- A branding and interior design concept\n",
        "- A short description of an ideal logo (colors, font, style)\n",
        "- A DALL·E-style image generation prompt for that logo\n",
        "\n",
        "{format_instructions}\n",
        "\"\"\".strip()\n",
        ")"
      ],
      "metadata": {
        "id": "QmX9shZPIFys"
      },
      "execution_count": 7,
      "outputs": []
    },
    {
      "cell_type": "code",
      "source": [
        "# Chain: Prompt ➝ LLM ➝ Parser\n",
        "chain = final_prompt | llm | parser"
      ],
      "metadata": {
        "id": "v9Go2OL6ILRT"
      },
      "execution_count": 8,
      "outputs": []
    },
    {
      "cell_type": "code",
      "source": [
        "# Run it\n",
        "output = chain.invoke({\"cuisine\": \"Brazil\", \"format_instructions\": format_instructions})\n",
        "\n",
        "# Display results\n",
        "print(json.dumps(output.model_dump(), indent=2, ensure_ascii=False))"
      ],
      "metadata": {
        "id": "F_fdw16WIPcQ",
        "colab": {
          "base_uri": "https://localhost:8080/"
        },
        "outputId": "5b9b36d8-5045-4860-c248-d93b70688e9d"
      },
      "execution_count": 9,
      "outputs": [
        {
          "output_type": "stream",
          "name": "stdout",
          "text": [
            "{\n",
            "  \"name\": \"Sabor do Brasil\",\n",
            "  \"slogan\": \"Experience the vibrant flavors of Brazil\",\n",
            "  \"concept\": \"A modern and lively atmosphere that celebrates the rich culture and cuisine of Brazil. Bold colors, natural textures, and lively music create an immersive dining experience.\",\n",
            "  \"logo_description\": \"The logo is a stylized version of the Brazilian flag, with a vibrant green background and a yellow circle in the center. The name of the restaurant is written in bold, modern font in the center of the circle.\",\n",
            "  \"image_prompt\": \"Generate an image of a stylized Brazilian flag with the name 'Sabor do Brasil' written in bold, modern font in the center.\"\n",
            "}\n"
          ]
        }
      ]
    }
  ]
}