{
  "nbformat": 4,
  "nbformat_minor": 0,
  "metadata": {
    "colab": {
      "provenance": [],
      "authorship_tag": "ABX9TyM+v4BlNXVkC+MCNoLI6fH1",
      "include_colab_link": true
    },
    "kernelspec": {
      "name": "python3",
      "display_name": "Python 3"
    },
    "language_info": {
      "name": "python"
    }
  },
  "cells": [
    {
      "cell_type": "markdown",
      "metadata": {
        "id": "view-in-github",
        "colab_type": "text"
      },
      "source": [
        "<a href=\"https://colab.research.google.com/github/uguazelli/langchain/blob/main/agent_based_chain.ipynb\" target=\"_parent\"><img src=\"https://colab.research.google.com/assets/colab-badge.svg\" alt=\"Open In Colab\"/></a>"
      ]
    },
    {
      "cell_type": "markdown",
      "source": [
        "# Agent-based Chain"
      ],
      "metadata": {
        "id": "kwNJc-UeUvBE"
      }
    },
    {
      "cell_type": "code",
      "source": [
        "# ✅ Step 1: Install required packages\n",
        "!pip install -U langchain langchain-community langchain-openai duckduckgo-search"
      ],
      "metadata": {
        "id": "Wpx5QpG8MMwN"
      },
      "execution_count": null,
      "outputs": []
    },
    {
      "cell_type": "code",
      "execution_count": 11,
      "metadata": {
        "id": "JKD2nukCIeWY"
      },
      "outputs": [],
      "source": [
        "# ✅ Step 2: Imports\n",
        "from google.colab import userdata\n",
        "from langchain_openai import ChatOpenAI\n",
        "from langchain_community.tools.ddg_search.tool import DuckDuckGoSearchResults\n",
        "from langchain.agents import create_openai_functions_agent, AgentExecutor\n",
        "from langchain_core.prompts import ChatPromptTemplate, MessagesPlaceholder\n",
        "from langchain.memory import ConversationBufferMemory"
      ]
    },
    {
      "cell_type": "code",
      "source": [
        "# Get API key from Colab secrets\n",
        "api_key = userdata.get('OPENAI_API_KEY')"
      ],
      "metadata": {
        "id": "FEfmiyaPKSuY"
      },
      "execution_count": 12,
      "outputs": []
    },
    {
      "cell_type": "code",
      "source": [
        "# ✅ Step 3: Define the LLM (Chat model for tool use)\n",
        "llm = ChatOpenAI(model=\"gpt-4\", api_key=api_key)"
      ],
      "metadata": {
        "id": "Mh1Rk_yBLyMP"
      },
      "execution_count": 13,
      "outputs": []
    },
    {
      "cell_type": "code",
      "source": [
        "# ✅ Step 4: Tool setup\n",
        "search = DuckDuckGoSearchResults()"
      ],
      "metadata": {
        "id": "ye_QVrUgRQZA"
      },
      "execution_count": 14,
      "outputs": []
    },
    {
      "cell_type": "code",
      "source": [
        "# ✅ Step 5: Define agent prompt with memory + tool scratchpad\n",
        "prompt = ChatPromptTemplate.from_messages([\n",
        "    (\"system\", \"You are a helpful assistant that uses tools when needed.\"),\n",
        "    MessagesPlaceholder(variable_name=\"chat_history\"),       # 🧠 Memory\n",
        "    (\"user\", \"{input}\"),\n",
        "    MessagesPlaceholder(variable_name=\"agent_scratchpad\"),   # 🛠️ Tool reasoning\n",
        "])"
      ],
      "metadata": {
        "id": "0PthmDMcVA0Z"
      },
      "execution_count": 15,
      "outputs": []
    },
    {
      "cell_type": "code",
      "source": [
        "# ✅ Step 6: Create the agent with function-calling\n",
        "agent = create_openai_functions_agent(\n",
        "    llm=llm,\n",
        "    tools=[search],\n",
        "    prompt=prompt\n",
        ")"
      ],
      "metadata": {
        "id": "JD2XE-QLe347"
      },
      "execution_count": 16,
      "outputs": []
    },
    {
      "cell_type": "code",
      "source": [
        "# ✅ Step 7: Attach memory to the agent executor\n",
        "memory = ConversationBufferMemory(\n",
        "    memory_key=\"chat_history\",\n",
        "    return_messages=True\n",
        ")\n",
        "\n",
        "agent_executor = AgentExecutor(\n",
        "    agent=agent,\n",
        "    tools=[search],\n",
        "    memory=memory,\n",
        "    verbose=True,\n",
        "    handle_parsing_errors=True\n",
        ")"
      ],
      "metadata": {
        "id": "viWHxJrbe_9k"
      },
      "execution_count": null,
      "outputs": []
    },
    {
      "cell_type": "code",
      "source": [
        "# ✅ Step 8: Run multiple turns (simulate memory)\n",
        "response1 = agent_executor.invoke({\"input\": \"Find the latest news about artificial intelligence.\"})\n",
        "print(\"\\n🧠 First Answer:\\n\", response1[\"output\"])\n",
        "\n",
        "response2 = agent_executor.invoke({\"input\": \"Summarize that in one sentence.\"})\n",
        "print(\"\\n🔁 Follow-up (with memory):\\n\", response2[\"output\"])"
      ],
      "metadata": {
        "id": "JC5GnQ6dfFq8",
        "colab": {
          "base_uri": "https://localhost:8080/"
        },
        "outputId": "39117f38-fd1e-4252-8501-27830e57a4c4"
      },
      "execution_count": 18,
      "outputs": [
        {
          "output_type": "stream",
          "name": "stdout",
          "text": [
            "\n",
            "\n",
            "\u001b[1m> Entering new AgentExecutor chain...\u001b[0m\n",
            "\u001b[32;1m\u001b[1;3m\n",
            "Invoking: `duckduckgo_results_json` with `{'query': 'latest news about artificial intelligence'}`\n",
            "\n",
            "\n",
            "\u001b[0m\u001b[36;1m\u001b[1;3msnippet: AI News reports on the latest artificial intelligence news and insights. Explore industry trends from the frontline of AI. ... Artificial Intelligence, Companies, Enterprise, Industries, Manufacturing, NVIDIA, Robotics. June 13, 2025. NVIDIA helps Germany lead Europe's AI manufacturing race., title: AI News | Latest AI News, Analysis & Events, link: https://www.artificialintelligence-news.com/, snippet: Artificial Intelligence News. Everything on AI including futuristic robots with artificial intelligence, computer models of human intelligence and more. ... Keep up to date with the latest news ..., title: Artificial Intelligence News -- ScienceDaily, link: https://www.sciencedaily.com/news/computers_math/artificial_intelligence/, snippet: How Artificial Intelligence is creating the next normal. Information you can trust. Reuters, the news and media division of Thomson Reuters, is the world's largest multimedia news provider ..., title: AI News | Latest Headlines and Developments | Reuters, link: https://www.reuters.com/technology/artificial-intelligence/, snippet: Artificial intelligence. Download RSS feed: News Articles / In the Media / Audio. Displaying 1 - 15 of 1380 news articles related to this topic. Show: News Articles. In the Media. Audio. Researchers present bold ideas for AI at MIT Generative AI Impact Consortium kickoff event. Presentations targeted high-impact intersections of AI and other ..., title: Artificial intelligence | MIT News | Massachusetts Institute of Technology, link: https://news.mit.edu/topic/artificial-intelligence2\u001b[0m\u001b[32;1m\u001b[1;3mHere are some of the latest articles and news regarding artificial intelligence:\n",
            "\n",
            "1. \"[AI News | Latest AI News, Analysis & Events](https://www.artificialintelligence-news.com/)\" explores industry trends from the frontline of AI. Recently, it reported on how NVIDIA is helping Germany lead Europe's AI manufacturing race.\n",
            "\n",
            "2. \"[Artificial Intelligence News -- ScienceDaily](https://www.sciencedaily.com/news/computers_math/artificial_intelligence/)\" covers everything on AI including futuristic robots with artificial intelligence, computer models of human intelligence and more.\n",
            "\n",
            "3. \"[AI News | Latest Headlines and Developments | Reuters](https://www.reuters.com/technology/artificial-intelligence/)\" discusses how Artificial Intelligence is creating the next normal in the technology world.\n",
            "\n",
            "4. On the \"[MIT News | Massachusetts Institute of Technology](https://news.mit.edu/topic/artificial-intelligence2)\" page, you can find information on a recent event where researchers presented bold ideas for AI at the MIT Generative AI Impact Consortium kickoff event.\n",
            "\n",
            "Please follow the links to read the full articles.\u001b[0m\n",
            "\n",
            "\u001b[1m> Finished chain.\u001b[0m\n",
            "\n",
            "🧠 First Answer:\n",
            " Here are some of the latest articles and news regarding artificial intelligence:\n",
            "\n",
            "1. \"[AI News | Latest AI News, Analysis & Events](https://www.artificialintelligence-news.com/)\" explores industry trends from the frontline of AI. Recently, it reported on how NVIDIA is helping Germany lead Europe's AI manufacturing race.\n",
            "\n",
            "2. \"[Artificial Intelligence News -- ScienceDaily](https://www.sciencedaily.com/news/computers_math/artificial_intelligence/)\" covers everything on AI including futuristic robots with artificial intelligence, computer models of human intelligence and more.\n",
            "\n",
            "3. \"[AI News | Latest Headlines and Developments | Reuters](https://www.reuters.com/technology/artificial-intelligence/)\" discusses how Artificial Intelligence is creating the next normal in the technology world.\n",
            "\n",
            "4. On the \"[MIT News | Massachusetts Institute of Technology](https://news.mit.edu/topic/artificial-intelligence2)\" page, you can find information on a recent event where researchers presented bold ideas for AI at the MIT Generative AI Impact Consortium kickoff event.\n",
            "\n",
            "Please follow the links to read the full articles.\n",
            "\n",
            "\n",
            "\u001b[1m> Entering new AgentExecutor chain...\u001b[0m\n",
            "\u001b[32;1m\u001b[1;3mThe latest news in artificial intelligence includes advancements in AI manufacturing in Europe led by NVIDIA, research on futuristic AI robots, the impact of AI in the technology world highlighted by Reuters, and innovative ideas presented at the MIT Generative AI Impact Consortium event.\u001b[0m\n",
            "\n",
            "\u001b[1m> Finished chain.\u001b[0m\n",
            "\n",
            "🔁 Follow-up (with memory):\n",
            " The latest news in artificial intelligence includes advancements in AI manufacturing in Europe led by NVIDIA, research on futuristic AI robots, the impact of AI in the technology world highlighted by Reuters, and innovative ideas presented at the MIT Generative AI Impact Consortium event.\n"
          ]
        }
      ]
    }
  ]
}