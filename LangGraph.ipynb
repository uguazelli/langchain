{
  "nbformat": 4,
  "nbformat_minor": 0,
  "metadata": {
    "colab": {
      "provenance": [],
      "authorship_tag": "ABX9TyP1tvWySkRcOiNVJgsgRKCW",
      "include_colab_link": true
    },
    "kernelspec": {
      "name": "python3",
      "display_name": "Python 3"
    },
    "language_info": {
      "name": "python"
    }
  },
  "cells": [
    {
      "cell_type": "markdown",
      "metadata": {
        "id": "view-in-github",
        "colab_type": "text"
      },
      "source": [
        "<a href=\"https://colab.research.google.com/github/uguazelli/langchain/blob/main/LangGraph.ipynb\" target=\"_parent\"><img src=\"https://colab.research.google.com/assets/colab-badge.svg\" alt=\"Open In Colab\"/></a>"
      ]
    },
    {
      "cell_type": "markdown",
      "source": [
        "# CodLab offers AI automation to clinics.\n",
        "\n",
        "This virtual assistant will:\n",
        "\n",
        "Greet the patient\n",
        "\n",
        "Collect symptoms\n",
        "\n",
        "Triage urgency (via LLM)\n",
        "\n",
        "Offer appointment options if non-urgent\n",
        "\n",
        "Send urgent cases to a human\n",
        "\n",
        "Generate a summary for admin or doctor\n"
      ],
      "metadata": {
        "id": "PXuhoPrWrK39"
      }
    },
    {
      "cell_type": "code",
      "source": [
        "'''\n",
        "        ┌──────────────┐\n",
        "        │   START      │\n",
        "        └─────┬────────┘\n",
        "              ↓\n",
        "     ┌─────────────────────┐\n",
        "     │ Collect Symptoms     │◄─── Loop if info is unclear\n",
        "     └────────┬────────────┘\n",
        "              ↓\n",
        "     ┌─────────────────────┐\n",
        "     │   Triage w/ LLM      │\n",
        "     └─────┬───────┬────────┘\n",
        "           ↓       ↓\n",
        "   ┌──────────┐   ┌─────────────────────┐\n",
        "   │ Alert MD │   │ Book Appointment     │\n",
        "   └──────────┘   └─────┬───────────────┘\n",
        "                        ↓\n",
        "              ┌─────────────────────┐\n",
        "              │ Generate Summary    │\n",
        "              └─────────┬───────────┘\n",
        "                        ↓\n",
        "                   ┌─────────┐\n",
        "                   │  DONE   │\n",
        "                   └─────────┘\n",
        "'''"
      ],
      "metadata": {
        "id": "Ptbp0FYvrrhu"
      },
      "execution_count": null,
      "outputs": []
    },
    {
      "cell_type": "code",
      "source": [
        "!pip install -U -q langchain langchain-openai langgraph"
      ],
      "metadata": {
        "id": "FlaqGSCkrwGw"
      },
      "execution_count": null,
      "outputs": []
    },
    {
      "cell_type": "code",
      "source": [
        "from langgraph.graph import StateGraph\n",
        "from langchain_openai import ChatOpenAI\n",
        "from langchain_core.runnables import Runnable\n",
        "from google.colab import userdata\n",
        "from typing import TypedDict, Optional\n",
        "from typing import TypedDict, List, Optional"
      ],
      "metadata": {
        "id": "rwmSrQahsBfL"
      },
      "execution_count": 10,
      "outputs": []
    },
    {
      "cell_type": "code",
      "source": [
        "openai_key = userdata.get('OPENAI_API_KEY')\n",
        "\n",
        "llm = ChatOpenAI(\n",
        "    model=\"gpt-4\",\n",
        "    temperature=0,\n",
        "    openai_api_key=openai_key\n",
        ")\n"
      ],
      "metadata": {
        "id": "zu3eaRLcsUfM"
      },
      "execution_count": 8,
      "outputs": []
    },
    {
      "cell_type": "code",
      "source": [
        "# Define state type\n",
        "class GraphState(TypedDict):\n",
        "    symptoms: Optional[str]\n",
        "    triage_result: Optional[str]\n",
        "    booking_confirmed: Optional[bool]\n"
      ],
      "metadata": {
        "id": "8vdXfwVytApY"
      },
      "execution_count": 11,
      "outputs": []
    },
    {
      "cell_type": "code",
      "source": [
        "# Define LangGraph nodes (functions)\n",
        "def collect_symptoms(state: GraphState):\n",
        "    print(\"Collecting symptoms...\")\n",
        "    state[\"symptoms\"] = \"I have chest pain and shortness of breath\"\n",
        "    return state\n",
        "\n",
        "def triage(state: GraphState):\n",
        "    symptoms = state[\"symptoms\"]\n",
        "    print(f\"Triage for: {symptoms}\")\n",
        "    response = llm.invoke(f\"Classify the following symptoms as urgent or non-urgent: {symptoms}. Respond only with 'urgent' or 'non-urgent'.\")\n",
        "    state[\"triage_result\"] = response.content.strip().lower()\n",
        "    return state\n",
        "\n",
        "def alert_doctor(state: GraphState):\n",
        "    print(\"🚨 Urgent case! Alerting doctor...\")\n",
        "    return state\n",
        "\n",
        "def book_appointment(state: GraphState):\n",
        "    print(\"Booking appointment for next available slot...\")\n",
        "    state[\"booking_confirmed\"] = True\n",
        "    return state"
      ],
      "metadata": {
        "id": "6gYZoRY_tuoy"
      },
      "execution_count": 12,
      "outputs": []
    },
    {
      "cell_type": "code",
      "source": [
        "# Build the graph\n",
        "graph = StateGraph(GraphState)\n",
        "\n",
        "graph.add_node(\"collect_symptoms\", collect_symptoms)\n",
        "graph.add_node(\"triage\", triage)\n",
        "graph.add_node(\"alert_doctor\", alert_doctor)\n",
        "graph.add_node(\"book_appointment\", book_appointment)\n",
        "\n",
        "graph.set_entry_point(\"collect_symptoms\")\n",
        "graph.add_edge(\"collect_symptoms\", \"triage\")\n",
        "\n",
        "def triage_router(state: GraphState):\n",
        "    if state[\"triage_result\"] == \"urgent\":\n",
        "        return \"alert_doctor\"\n",
        "    return \"book_appointment\"\n",
        "\n",
        "graph.add_conditional_edges(\"triage\", triage_router)\n",
        "graph.set_finish_point(\"alert_doctor\")\n",
        "graph.set_finish_point(\"book_appointment\")\n",
        "\n",
        "app = graph.compile()\n"
      ],
      "metadata": {
        "id": "ynmIyHh1t08C"
      },
      "execution_count": 13,
      "outputs": []
    },
    {
      "cell_type": "code",
      "source": [
        "# Run the LangGraph app\n",
        "final_state = app.invoke({})\n",
        "print(\"\\n✅ Final state:\", final_state)"
      ],
      "metadata": {
        "colab": {
          "base_uri": "https://localhost:8080/"
        },
        "id": "QqeV3qBft-HE",
        "outputId": "6ecf65c1-fa0b-4f1b-a846-aaf3a9e1e255"
      },
      "execution_count": 14,
      "outputs": [
        {
          "output_type": "stream",
          "name": "stdout",
          "text": [
            "Collecting symptoms...\n",
            "Triage for: I have chest pain and shortness of breath\n",
            "🚨 Urgent case! Alerting doctor...\n",
            "\n",
            "✅ Final state: {'symptoms': 'I have chest pain and shortness of breath', 'triage_result': 'urgent'}\n"
          ]
        }
      ]
    },
    {
      "cell_type": "code",
      "source": [],
      "metadata": {
        "id": "pXJjHqhcuJ1_"
      },
      "execution_count": null,
      "outputs": []
    }
  ]
}